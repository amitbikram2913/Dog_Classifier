{
 "cells": [
  {
   "cell_type": "code",
   "execution_count": null,
   "metadata": {},
   "outputs": [],
   "source": [
    "import numpy as np\n",
    "import pandas as pd\n",
    "import cv2\n",
    "from matplotlib import pyplot as plt\n",
    "import glob\n",
    "import random\n",
    "from random import randint"
   ]
  },
  {
   "cell_type": "code",
   "execution_count": null,
   "metadata": {},
   "outputs": [],
   "source": [
    "path = 'C:/Users/User/Downloads/Capstone Project/train3'\n",
    "\n",
    "\n",
    "    \n",
    "filenames = glob.glob(path + \"/*.jpg\")\n",
    "images = [cv2.imread(i)for i in filenames]\n",
    "images = [cv2.resize(i,(128,128))for i in images]\n",
    "imag = images[:]"
   ]
  },
  {
   "cell_type": "code",
   "execution_count": null,
   "metadata": {},
   "outputs": [],
   "source": [
    "def augment_data(images):\n",
    "    \n",
    "    def no_chng(imag):\n",
    "        return imag\n",
    "\n",
    "    \n",
    "    def clr_chng(imag):\n",
    "        imag = cv2.cvtColor(imag, cv2.COLOR_BGR2RGB)\n",
    "        return imag\n",
    "    \n",
    "    def trans_shift(imag):\n",
    "        rows,cols,cha = imag.shape\n",
    "    \n",
    "        M = np.float32([[1,0,randint(-5,5)],[0,1,randint(-5,5)]])\n",
    "        imag = cv2.warpAffine(imag,M,(cols,rows))\n",
    "        \n",
    "        return imag\n",
    "    \n",
    "    def rot_shift(imag):\n",
    "        rows,cols,cha = imag.shape\n",
    "        \n",
    "        N = cv2.getRotationMatrix2D((cols/2,rows/2),randint(-20,20),1)\n",
    "        imag = cv2.warpAffine(imag,N,(cols,rows))\n",
    "        \n",
    "        return imag\n",
    "        \n",
    "    def shear_shift(imag):\n",
    "        rows,cols,cha = imag.shape\n",
    "        \n",
    "        pnt1 = np.float([[0.2*rows,0.2*cols],[0.2*rows,0.7*cols],[0.7*rows,0.2*cols]])\n",
    "        pnt2 = np.float([[(0.2-0.15)*rows,0.2*cols],[0.2*rows,0.7*cols],[(0.7+0.15)*rows,0.2*cols]])\n",
    "        S = cv2.getAffineTransform(pnt1,pnt2)\n",
    "    \n",
    "        \n",
    "        imag = cv2.warpAffine(imag,S,(cols,rows))\n",
    "    \n",
    "    def smooth_pic(imag):\n",
    "        kernel = np.ones((2,2),np.float32)/5\n",
    "        imag = cv2.filter2D(imag,-1,kernel)\n",
    "        \n",
    "        return imag\n",
    "        \n",
    "    def hor_flip(imag):\n",
    "        imag = cv2.flip(imag,1)\n",
    "            \n",
    "        return imag\n",
    "        \n",
    "    def ver_flip(imag):\n",
    "        imag = cv2.flip(imag ,0)\n",
    "            \n",
    "        return imag\n",
    "        \n",
    "        \n",
    "    my_list = [ clr_chng, trans_shift, rot_shift, smooth_pic, hor_flip, ver_flip]\n",
    "    for i in range(len(images)):\n",
    "        chance = randint(0,9)\n",
    "        if chance<5:\n",
    "            images[i] = no_chng(images[i])\n",
    "        else:\n",
    "            images[i] = random.choice(my_list)(images[i])\n",
    "        \n",
    "    return images"
   ]
  }
 ],
 "metadata": {
  "kernelspec": {
   "display_name": "Python 3",
   "language": "python",
   "name": "python3"
  },
  "language_info": {
   "codemirror_mode": {
    "name": "ipython",
    "version": 3
   },
   "file_extension": ".py",
   "mimetype": "text/x-python",
   "name": "python",
   "nbconvert_exporter": "python",
   "pygments_lexer": "ipython3",
   "version": "3.6.5"
  }
 },
 "nbformat": 4,
 "nbformat_minor": 2
}
