{
 "cells": [
  {
   "cell_type": "code",
   "execution_count": null,
   "metadata": {},
   "outputs": [],
   "source": [
    "import pandas as pd\n",
    "import glob\n",
    "import os\n",
    "import numpy as np\n",
    "\n",
    "from sklearn.model_selection import train_test_split"
   ]
  },
  {
   "cell_type": "code",
   "execution_count": null,
   "metadata": {},
   "outputs": [],
   "source": [
    "image_dir = 'C:/Users/User/Downloads/Capstone Project/train1/'\n",
    "bottle_dir = 'C:/Users/User/Downloads/Capstone Project/train1/bottleneck/'\n",
    "folder = os.listdir(bottle_dir)\n",
    "\n",
    "filenames = []\n",
    "filename = []\n",
    "for f in folder:\n",
    "    filename = glob.glob(bottle_dir + f + \"/*.txt\")\n",
    "    filenames.append(filename)\n",
    "    \n",
    "x_data = np.zeros((10222,2048))\n",
    "y_data = []\n",
    "read = np.zeros((1,2048))"
   ]
  },
  {
   "cell_type": "code",
   "execution_count": null,
   "metadata": {},
   "outputs": [],
   "source": [
    "count = 0\n",
    "for f in range(len(filenames)):\n",
    "    \n",
    "    for g in range(len(filenames[f])):\n",
    "        read = pd.read_csv(filenames[f][g],sep=',',header=None)\n",
    "        x_data[count+g] = read\n",
    "    count += len(filenames[f])\n",
    "  \n",
    "for f in range(len(filenames)):\n",
    "    \n",
    "    for g in range(len(filenames[f])):\n",
    "        \n",
    "        y_data.append(folder[f])"
   ]
  },
  {
   "cell_type": "code",
   "execution_count": null,
   "metadata": {},
   "outputs": [],
   "source": [
    "labels = pd.get_dummies(list(y_data))\n",
    "labels3 = np.dot(labels.values,np.arange(1,121))\n",
    "\n",
    "X_train, X_test, y_train, y_test = train_test_split(x_data, labels3, test_size=0.20, random_state=42)"
   ]
  },
  {
   "cell_type": "code",
   "execution_count": null,
   "metadata": {},
   "outputs": [],
   "source": [
    "from sklearn import svm\n",
    "model = svm.SVC(C = 0.025)\n",
    "\n",
    "model.fit(X_train,y_train)\n",
    "\n",
    "pred = model.predict(X_test)\n",
    "\n",
    "correct = 0\n",
    "length = len(X_test)\n",
    "\n",
    "correct = pred == y_test\n",
    "my_accuracy = (np.sum(correct) / length)*100\n",
    "print ('svm LR Accuracy %: ', my_accuracy)"
   ]
  },
  {
   "cell_type": "code",
   "execution_count": null,
   "metadata": {},
   "outputs": [],
   "source": [
    "from sklearn.linear_model import SGDClassifier\n",
    "\n",
    "sgd = SGDClassifier(loss='modified_huber',shuffle = True, random_state = 101)\n",
    "sgd.fit(X_train, y_train)\n",
    "\n",
    "y_pred = sgd.predict(X_test)\n",
    "\n",
    "correct1 = 0\n",
    "length1 = len(X_test)\n",
    "\n",
    "correct1 = y_pred == y_test\n",
    "my_accuracy1 = (np.sum(correct1) / length1)*100\n",
    "print ('sgd LR Accuracy %: ', my_accuracy1)"
   ]
  },
  {
   "cell_type": "code",
   "execution_count": null,
   "metadata": {},
   "outputs": [],
   "source": [
    "from sklearn.NaiveBayes import GaussianNB\n",
    "nb = GaussianNB()\n",
    "nb.fit(X_train, y_train)\n",
    "\n",
    "pred1 = nb.predict(X_test)\n",
    "\n",
    "correct2 = 0\n",
    "length2 = len(X_test)\n",
    "\n",
    "correct2 = pred1 == y_test\n",
    "my_accuracy2 = (np.sum(correct2) / length2)*100\n",
    "print ('nb LR Accuracy %: ', my_accuracy2)"
   ]
  },
  {
   "cell_type": "code",
   "execution_count": null,
   "metadata": {},
   "outputs": [],
   "source": [
    "from sklearn.neighbors import KNeighborsClassifier\n",
    "\n",
    "knn = KNeighborsClassifier(n_neighbors=15)\n",
    "knn.fit(X_train, y_train)\n",
    "\n",
    "y_pred1 = knn.predict(X_test)\n",
    "\n",
    "correct3 = 0\n",
    "length3 = len(X_test)\n",
    "\n",
    "correct3 = y_pred1 == y_test\n",
    "my_accuracy3 = (np.sum(correct3) / length3)*100\n",
    "print ('knn LR Accuracy %: ', my_accuracy3)"
   ]
  }
 ],
 "metadata": {
  "kernelspec": {
   "display_name": "Python 3",
   "language": "python",
   "name": "python3"
  },
  "language_info": {
   "codemirror_mode": {
    "name": "ipython",
    "version": 3
   },
   "file_extension": ".py",
   "mimetype": "text/x-python",
   "name": "python",
   "nbconvert_exporter": "python",
   "pygments_lexer": "ipython3",
   "version": "3.6.5"
  }
 },
 "nbformat": 4,
 "nbformat_minor": 2
}
