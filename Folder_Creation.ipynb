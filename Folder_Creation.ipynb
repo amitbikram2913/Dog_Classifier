{
 "cells": [
  {
   "cell_type": "code",
   "execution_count": null,
   "metadata": {},
   "outputs": [],
   "source": [
    "import os\n",
    "import pandas as pd\n",
    "import glob\n",
    "import tensorflow as tf\n",
    "root_path = 'C:/Users/User/Downloads/Capstone Project/train1/'\n",
    "labels = pd.read_csv(\"C:/Users/User/Downloads/Capstone Project/labels.csv\")"
   ]
  },
  {
   "cell_type": "code",
   "execution_count": null,
   "metadata": {},
   "outputs": [],
   "source": [
    "label_uni = list(set(labels['breed']))\n",
    "\n",
    "for folder in label_uni:\n",
    "\n",
    "    os.mkdir(os.path.join(root_path, folder))\n",
    "\n",
    "image_dir = 'C:/Users/User/Downloads/Capstone Project/train/'\n",
    "filenames = glob.glob(image_dir + \"/*.jpg\")\n",
    "\n",
    "files = os.listdir(image_dir)"
   ]
  },
  {
   "cell_type": "code",
   "execution_count": null,
   "metadata": {},
   "outputs": [],
   "source": [
    "for index, row in labels.iterrows():\n",
    "    if not tf.gfile.Exists('C:/Users/User/Downloads/Capstone Project/train1/%s'%(row['breed'])):\n",
    "        tf.gfile.MkDir('C:/Users/User/Downloads/Capstone Project/train1/%s'%(row['breed']))\n",
    "    tf.gfile.Copy('C:/Users/User/Downloads/Capstone Project/train/%s.jpg'%(row['id']),'C:/Users/User/Downloads/Capstone Project/train1/%s/%s.jpg'%(row['breed'],row['id']),True)"
   ]
  },
  {
   "cell_type": "code",
   "execution_count": null,
   "metadata": {},
   "outputs": [],
   "source": [
    "#### To be run on the console at the end of this code\n",
    "#'mkdir C:/Users/User/Downloads/Capstone Project/train1/example_code'\n",
    "#'cd C:/Users/User/Downloads/Capstone Project/train1/example_code'\n",
    "#'curl -LO https://github.com/tensorflow/hub/raw/r0.1/examples/image_retraining/retrain.py'\n",
    "#\n",
    "#'python retrain.py --image_dir C:/Users/User/Downloads/Capstone Project/train1/'"
   ]
  }
 ],
 "metadata": {
  "kernelspec": {
   "display_name": "Python 3",
   "language": "python",
   "name": "python3"
  },
  "language_info": {
   "codemirror_mode": {
    "name": "ipython",
    "version": 3
   },
   "file_extension": ".py",
   "mimetype": "text/x-python",
   "name": "python",
   "nbconvert_exporter": "python",
   "pygments_lexer": "ipython3",
   "version": "3.6.5"
  }
 },
 "nbformat": 4,
 "nbformat_minor": 2
}
