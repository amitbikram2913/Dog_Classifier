{
 "cells": [
  {
   "cell_type": "code",
   "execution_count": 1,
   "metadata": {},
   "outputs": [
    {
     "name": "stderr",
     "output_type": "stream",
     "text": [
      "C:\\Users\\User\\Anaconda3\\lib\\site-packages\\h5py\\__init__.py:36: FutureWarning: Conversion of the second argument of issubdtype from `float` to `np.floating` is deprecated. In future, it will be treated as `np.float64 == np.dtype(float).type`.\n",
      "  from ._conv import register_converters as _register_converters\n"
     ]
    }
   ],
   "source": [
    "import os\n",
    "from os.path import join\n",
    "import tensorflow as tf\n",
    "import pandas as pd\n",
    "import numpy as np\n",
    "from zipfile import ZipFile\n",
    "from io import BytesIO\n",
    "import PIL.Image\n",
    "\n",
    "image_size = 224\n",
    "num_channels = 3\n",
    "num_classes = 120\n",
    "num_input = image_size*image_size\n",
    "learning_rate = 0.001"
   ]
  },
  {
   "cell_type": "code",
   "execution_count": 2,
   "metadata": {},
   "outputs": [],
   "source": [
    "\n",
    "image_dir = 'C:/Users/User/Downloads/Capstone Project/train/'\n",
    "\n",
    "\n",
    "dir_name = 'C:/Users/User/Downloads/Capstone Project/'\n",
    "filenames1 = ZipFile('C:/Users/User/Downloads/Capstone Project/train.zip','r') \n",
    " \n",
    "\n",
    "\n",
    "labels = pd.read_csv(\"C:/Users/User/Downloads/Capstone Project/labels.csv\")\n"
   ]
  },
  {
   "cell_type": "code",
   "execution_count": null,
   "metadata": {},
   "outputs": [],
   "source": [
    "from tensorflow.python.keras.applications import VGG16\n",
    "\n",
    "import ssl\n",
    "ssl._create_default_https_context = ssl._create_unverified_context\n",
    "model1 = VGG16(weights='imagenet',include_top=True)\n",
    "    \n",
    "#model1 = VGG16(weights='imagenet',include_top=False)\n",
    "\n",
    "weights1 = model1.get_weights()"
   ]
  },
  {
   "cell_type": "code",
   "execution_count": null,
   "metadata": {},
   "outputs": [],
   "source": [
    "X = tf.placeholder(tf.float32, [None, image_size,image_size,num_channels])\n",
    "Y = tf.placeholder(tf.float32, [None, num_classes])\n",
    "Z = tf.placeholder(tf.float32, [None, 4,4,512])\n",
    "keep_prob = tf.placeholder(tf.float32)"
   ]
  },
  {
   "cell_type": "code",
   "execution_count": null,
   "metadata": {},
   "outputs": [],
   "source": [
    "def conv2d(x, W, b, strides=1):\n",
    "    # Conv2D wrapper, with bias and relu activation\n",
    "    x = tf.nn.conv2d(x, W, strides=[1, strides, strides, 1], padding='SAME')\n",
    "    x = tf.nn.bias_add(x, b)\n",
    "    return tf.nn.relu(x)\n",
    "\n",
    "def maxpool2d(x, k=2):\n",
    "    # MaxPool2D wrapper\n",
    "    return tf.nn.max_pool(x, ksize=[1, k, k, 1], strides=[1, k, k, 1], padding='SAME')"
   ]
  },
  {
   "cell_type": "code",
   "execution_count": null,
   "metadata": {},
   "outputs": [],
   "source": [
    "def conv_net(x, weights):   \n",
    "    \n",
    "    x = tf.reshape(x, shape=[-1, image_size, image_size, 3])\n",
    "    \n",
    "    conv_1 = conv2d(x,weights[0],weights[1])\n",
    "    conv_2 = conv2d(conv_1,weights[2],weights[3])\n",
    "    max_1 = maxpool2d(conv_2)\n",
    "    \n",
    "    conv_3 = conv2d(max_1,weights[4],weights[5])\n",
    "    conv_4 = conv2d(conv_3,weights[6],weights[7])\n",
    "    max_2 = maxpool2d(conv_4)\n",
    "    \n",
    "    conv_5 = conv2d(max_2,weights[8],weights[9])\n",
    "    conv_6 = conv2d(conv_5,weights[10],weights[11])\n",
    "    conv_7 = conv2d(conv_6,weights[12],weights[13])\n",
    "    max_3 = maxpool2d(conv_7)\n",
    "    \n",
    "    conv_8 = conv2d(max_3,weights[14],weights[15])\n",
    "    conv_9 = conv2d(conv_8,weights[16],weights[17])\n",
    "    conv_10 = conv2d(conv_9,weights[18],weights[19])\n",
    "    max_4 = maxpool2d(conv_10)\n",
    "    \n",
    "    conv_11 = conv2d(max_4,weights[20],weights[21])\n",
    "    conv_12 = conv2d(conv_11,weights[22],weights[23])\n",
    "    conv_13 = conv2d(conv_12,weights[24],weights[25])\n",
    "    max_5 = maxpool2d(conv_13)\n",
    "    \n",
    "    fc1 = tf.contrib.layers.flatten(max_5)\n",
    "    fc1 = tf.add(tf.matmul(fc1, weights[26]), weights[27])\n",
    "    fc1 = tf.nn.relu(fc1)\n",
    "    \n",
    "    fc2 = tf.add(tf.matmul(fc1, weights[28]), weights[29])\n",
    "    fc2 = tf.nn.relu(fc2)\n",
    "    \n",
    "    fc3 = tf.add(tf.matmul(fc2, weights[30]), weights[31])\n",
    "    fc3 = tf.nn.relu(fc3)\n",
    "    \n",
    "    return fc3"
   ]
  },
  {
   "cell_type": "code",
   "execution_count": null,
   "metadata": {},
   "outputs": [],
   "source": [
    "pre_train = conv_net(X,weights1)\n",
    "\n",
    "# Initialize the variables (i.e. assign their default value)\n",
    "init = tf.global_variables_initializer()\n",
    "\n",
    "with tf.Session() as sess:\n",
    "    \n",
    "    sess.run(init)\n",
    "    imagevec = np.zeros([10222,1000])\n",
    "    \n",
    "    for j in range(10222):\n",
    "        \n",
    "        filename = BytesIO(filenames1.read(filenames1.namelist()[j+1]))\n",
    "        image = PIL.Image.open(filename)\n",
    "        image = image.resize((224, 224))\n",
    "        image = np.array(image)\n",
    "        image = np.clip(image/255.0, 0.0, 1.0)\n",
    "        imagevec[j] = sess.run(pre_train, feed_dict = {X: image.reshape(1, 224, 224, 3)})"
   ]
  },
  {
   "cell_type": "code",
   "execution_count": null,
   "metadata": {},
   "outputs": [],
   "source": [
    "label = pd.get_dummies(list(labels['breed']))\n",
    "labels3 = np.dot(label.values,np.arange(1,121))\n",
    "\n",
    "from sklearn import svm\n",
    "from sklearn.model_selection import train_test_split\n",
    "\n",
    "model = svm.SVC()\n",
    "\n",
    "X_train, X_test, y_train, y_test = train_test_split(imagevec, labels3, test_size=0.33, random_state=42)\n",
    "model.fit(X_train,y_train)\n",
    "\n",
    "pred = model.predict(X_test)\n",
    "\n",
    "correct = 0\n",
    "length = len(X_test)\n",
    "\n",
    "correct = pred == y_test\n",
    "my_accuracy = (np.sum(correct) / length)*100\n",
    "print ('svm LR Accuracy %: ', my_accuracy)"
   ]
  }
 ],
 "metadata": {
  "kernelspec": {
   "display_name": "Python 3",
   "language": "python",
   "name": "python3"
  },
  "language_info": {
   "codemirror_mode": {
    "name": "ipython",
    "version": 3
   },
   "file_extension": ".py",
   "mimetype": "text/x-python",
   "name": "python",
   "nbconvert_exporter": "python",
   "pygments_lexer": "ipython3",
   "version": "3.6.5"
  }
 },
 "nbformat": 4,
 "nbformat_minor": 2
}
