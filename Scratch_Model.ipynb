{
 "cells": [
  {
   "cell_type": "code",
   "execution_count": null,
   "metadata": {},
   "outputs": [],
   "source": [
    "import numpy as np\n",
    "import tensorflow as tf\n",
    "import pandas as pd\n",
    "import cv2\n",
    "from zipfile import ZipFile\n",
    "import os\n",
    "import random\n",
    "from sklearn.model_selection import train_test_split\n",
    "from data_augment import augment_data\n",
    "from collections import Counter"
   ]
  },
  {
   "cell_type": "code",
   "execution_count": null,
   "metadata": {},
   "outputs": [],
   "source": [
    "image_size = 128\n",
    "num_channels = 3\n",
    "num_classes = 120\n",
    "num_input = image_size*image_size\n",
    "learning_rate = 0.00001\n",
    "\n",
    "batch_size = 256\n",
    "test_size = 250\n",
    "num_iter = 30\n",
    "num_epoch = 100\n",
    "#dropout = 1"
   ]
  },
  {
   "cell_type": "code",
   "execution_count": null,
   "metadata": {},
   "outputs": [],
   "source": [
    "dir_name = 'C:/Users/User/Downloads/Capstone Project/'\n",
    "filenames1 = ZipFile('C:/Users/User/Downloads/Capstone Project/train.zip','r') \n",
    "train = filenames1.namelist()\n",
    "train = [os.path.join(dir_name,i) for i in train]\n",
    "train = train[1:]\n",
    "\n",
    "labels = pd.read_csv(\"C:/Users/User/Downloads/Capstone Project/labels.csv\")\n",
    "\n",
    "label = pd.get_dummies(list(labels['breed']))\n",
    "\n",
    "X_train, X_test, y_train, y_test = train_test_split(train, label, test_size=0.10, random_state=42)"
   ]
  },
  {
   "cell_type": "code",
   "execution_count": null,
   "metadata": {},
   "outputs": [],
   "source": [
    "def generate_batch(train,label,step):\n",
    "    filename = train[step*batch_size :(step+1)*batch_size]\n",
    "    batch_y = label[step*batch_size :(step+1)*batch_size]\n",
    "    batch_x = [cv2.imread(i)for i in filename]\n",
    "    batch_x = [cv2.resize(i,(image_size,image_size))for i in batch_x]\n",
    "    batch_x = np.array(batch_x)\n",
    "    batch_x = np.reshape(batch_x,(batch_size,image_size,image_size,3))\n",
    "    \n",
    "    return batch_x, batch_y\n",
    "\n",
    "def generate_test(test,label):\n",
    "    \n",
    "    filename = test[0 : test_size]\n",
    "    batch_y = label[0 : test_size]\n",
    "    batch_x = [cv2.imread(i)for i in filename]\n",
    "    batch_x = [cv2.resize(i,(image_size,image_size))for i in batch_x]\n",
    "    batch_x = np.array(batch_x)\n",
    "    batch_x = np.reshape(batch_x,(len(filename),image_size,image_size,3))\n",
    "    \n",
    "    return batch_x,batch_y\n",
    "\n",
    "test_x,test_y = generate_test(X_test, y_test)"
   ]
  },
  {
   "cell_type": "code",
   "execution_count": null,
   "metadata": {},
   "outputs": [],
   "source": [
    "# tf Graph input\n",
    "X = tf.placeholder(tf.float32, [None, image_size,image_size,num_channels])\n",
    "Y = tf.placeholder(tf.float32, [None, num_classes])\n",
    "# dropout (keep probability)\n",
    "#keep_prob = tf.placeholder(tf.float32)"
   ]
  },
  {
   "cell_type": "code",
   "execution_count": null,
   "metadata": {},
   "outputs": [],
   "source": [
    "#def conv2d(x, W, b, strides=1):\n",
    "#    # Conv2D wrapper, with bias and relu activation\n",
    "#    x = tf.nn.conv2d(x, W, strides=[1, strides, strides, 1], padding='SAME')\n",
    "#    x = tf.nn.bias_add(x, b)\n",
    "#    return tf.nn.relu(x)\n",
    "\n",
    "def conv2d(x, shape, num,strides=1):\n",
    "   w = tf.get_variable('w' + str(num), shape = shape, initializer = tf.contrib.layers.xavier_initializer(seed=0))\n",
    "   b = tf.zeros(shape[-1], name='b' + str(num))\n",
    "   conv = tf.nn.conv2d(x, w, [1,strides,strides,1], padding=\"SAME\")\n",
    "   conv = tf.nn.bias_add(conv, b)\n",
    "   return(tf.nn.relu(conv))"
   ]
  },
  {
   "cell_type": "code",
   "execution_count": null,
   "metadata": {},
   "outputs": [],
   "source": [
    "conv1 = conv2d(X, [3,3,3,16], 1)\n",
    "conv2 = conv2d(conv1, [3,3,16,16], 2)\n",
    "maxp1 = tf.nn.max_pool(conv2, [1,2,2,1], [1,2,2,1], padding='SAME')\n",
    "\n",
    "#bn1 = tf.layers.batch_normalization(maxp1)\n",
    "\n",
    "conv3 = conv2d(maxp1, [5,5,16,32], 3)\n",
    "conv4 = conv2d(conv3, [5,5,32,32], 4)\n",
    "maxp2 = tf.nn.max_pool(conv4, [1,2,2,1], [1,2,2,1], padding='SAME')\n",
    "\n",
    "fc = tf.contrib.layers.flatten(maxp2)\n",
    "#kp    = tf.placeholder(tf.float32)\n",
    "#fc    = tf.nn.dropout(fc, keep_prob)\n",
    "\n",
    "fc1 = tf.contrib.layers.fully_connected(fc, 4096,activation_fn=None)\n",
    "\n",
    "bn2 = tf.layers.batch_normalization(fc1)\n",
    "bn2 = tf.nn.relu(bn2)\n",
    "\n",
    "fc2 = tf.contrib.layers.fully_connected(bn2, 2048)\n",
    "#fc2   = tf.nn.dropout(fc2, keep_prob)\n",
    "\n",
    "fc3 = tf.contrib.layers.fully_connected(fc, 120, activation_fn=None)"
   ]
  },
  {
   "cell_type": "code",
   "execution_count": null,
   "metadata": {},
   "outputs": [],
   "source": [
    "loss_op = tf.reduce_mean(tf.nn.softmax_cross_entropy_with_logits(logits = fc3, labels = Y))\n",
    "optimizer = tf.train.AdamOptimizer(learning_rate=learning_rate).minimize(loss_op)\n",
    "\n",
    "prediction = tf.nn.softmax(fc3)\n",
    "# Evaluate model\n",
    "correct_pred = tf.equal(tf.argmax(prediction, 1), tf.argmax(Y, 1))\n",
    "accuracy = tf.reduce_mean(tf.cast(correct_pred, tf.float32))\n",
    "\n",
    "filename = []\n",
    "\n",
    "# Initialize the variables (i.e. assign their default value)\n",
    "init = tf.global_variables_initializer()"
   ]
  },
  {
   "cell_type": "code",
   "execution_count": null,
   "metadata": {},
   "outputs": [],
   "source": [
    "# Start training\n",
    "with tf.Session() as sess:\n",
    "\n",
    "    # Run the initializer\n",
    "    sess.run(init)\n",
    "    \n",
    "    \n",
    "    \n",
    "    for epoch in range(num_epoch):\n",
    "        \n",
    "        label1 = y_train.values.tolist()\n",
    "        c = list(zip(train, label1))\n",
    "        \n",
    "        random.shuffle(c)\n",
    "\n",
    "        train, label1 = zip(*c)\n",
    "        train = list(train)\n",
    "        label1 = np.array(label1)\n",
    "        label2 = pd.DataFrame(np.array(label1))\n",
    "        label2.columns = list(label.columns.values)\n",
    "        \n",
    "        for step in range(num_iter):\n",
    "            \n",
    "            batch_x,batch_y = generate_batch(X_train, label2,step)\n",
    "            batch_x = augment_data(batch_x)\n",
    "            batch_x = batch_x/255\n",
    "            \n",
    "            # Run optimization op (backprop)\n",
    "            _,loss,acc = sess.run([optimizer,loss_op, accuracy], feed_dict={X: batch_x,\n",
    "                                                                     Y: batch_y})\n",
    "                                                                     \n",
    "            \n",
    "            if(step%10 == 0):\n",
    "                print(\"Epoch \" + str(epoch) + \" Iteration \" + str(step) + \" Train Loss= \" + \\\n",
    "                      str(loss) + \" Train Accuracy= \" + \\\n",
    "                      str(acc))\n",
    "                test_acc,test_pred=sess.run([accuracy,tf.argmax(prediction,1)], feed_dict={X: test_x/255,Y: test_y})\n",
    "                print(\" Testing Accuracy:\" + str(test_acc) + \" Testing Pred:\" + str(Counter(test_pred).most_common(3)))                    \n",
    "                                      \n",
    "                                      \n",
    "            \n",
    "\n",
    "    print(\"Optimization Finished!\")"
   ]
  }
 ],
 "metadata": {
  "kernelspec": {
   "display_name": "Python 3",
   "language": "python",
   "name": "python3"
  },
  "language_info": {
   "codemirror_mode": {
    "name": "ipython",
    "version": 3
   },
   "file_extension": ".py",
   "mimetype": "text/x-python",
   "name": "python",
   "nbconvert_exporter": "python",
   "pygments_lexer": "ipython3",
   "version": "3.6.5"
  }
 },
 "nbformat": 4,
 "nbformat_minor": 2
}
